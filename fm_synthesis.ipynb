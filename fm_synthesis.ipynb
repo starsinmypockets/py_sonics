{
 "cells": [
  {
   "cell_type": "code",
   "execution_count": 2,
   "id": "elder-afghanistan",
   "metadata": {},
   "outputs": [],
   "source": [
    "import numpy as np\n",
    "from scipy.io.wavfile import write\n",
    "import sounddevice as sd\n",
    "import time"
   ]
  },
  {
   "cell_type": "markdown",
   "id": "voluntary-contract",
   "metadata": {},
   "source": [
    "# Generate a sine wave"
   ]
  },
  {
   "cell_type": "code",
   "execution_count": 3,
   "id": "lovely-reality",
   "metadata": {},
   "outputs": [],
   "source": [
    "sps = 44100\n",
    "freq_hz = 440.0\n",
    "duration_s = 5.0\n",
    "each_sample_number = np.arange(duration_s * sps)\n",
    "waveform = np.sin(2 * np.pi * each_sample_number * freq_hz / sps)\n",
    "waveform_quiet = waveform * 0.1\n",
    "\n",
    "sd.play(waveform_quiet, sps)\n",
    "time.sleep(duration_s)\n",
    "sd.stop()"
   ]
  },
  {
   "cell_type": "markdown",
   "id": "roman-reducing",
   "metadata": {},
   "source": [
    "# FM Synthesis"
   ]
  },
  {
   "cell_type": "markdown",
   "id": "transparent-label",
   "metadata": {},
   "source": [
    "## Variables\n",
    "* `f_s` sample rates per second\n",
    "* `duration_s` duration of waveform in seconds\n",
    "* `f_c` frequency of carrier in hz\n",
    "* `f_m` frequency of modulator in hz\n",
    "* `k` deviation constant - no units"
   ]
  },
  {
   "cell_type": "code",
   "execution_count": 4,
   "id": "useful-photography",
   "metadata": {},
   "outputs": [],
   "source": [
    "f_s = 44100\n",
    "duration_s = 5.0\n",
    "f_c = 440.0\n",
    "f_m = 220.0\n",
    "k = 25.0\n",
    "\n",
    "f_m_2 = 100.0\n",
    "k_2 = 20.0\n",
    "\n",
    "f_m_3 = 330.0\n",
    "k_3 = 120.0\n",
    "\n",
    "f_m_4 = 99.0\n",
    "k_4 = 19.0"
   ]
  },
  {
   "cell_type": "markdown",
   "id": "approved-investor",
   "metadata": {},
   "source": [
    "Synthesize a series of waveforms, each modulating the previously generated waveform"
   ]
  },
  {
   "cell_type": "code",
   "execution_count": 5,
   "id": "marked-network",
   "metadata": {},
   "outputs": [
    {
     "name": "stderr",
     "output_type": "stream",
     "text": [
      "<ipython-input-5-2bcb05fb29e2>:4: RuntimeWarning: invalid value encountered in true_divide\n",
      "  carrier = 2 * np.pi * tis * f_c / tis\n"
     ]
    }
   ],
   "source": [
    "# sample number as int\n",
    "tis = np.arange(duration_s * f_s)\n",
    "# samples of the carrier\n",
    "carrier = 2 * np.pi * tis * f_c / tis\n",
    "# Samples of modulating waveform\n",
    "modulator = k * np.sin(2 * np.pi * tis * f_m / f_s)\n",
    "# second modulating waveform\n",
    "modulator2 = k_2 * np.sin(2 * np.pi * tis * f_m_2 / f_s)\n",
    "# third modulating waveform\n",
    "modulator3 = k_3 * np.sin(2 * np.pi * tis * f_m_3 / f_s)\n",
    "modulator4 = k_4 * np.sin(2 * np.pi * tis * f_m_4 / f_s)\n",
    "\n",
    "# the synthesized waveform\n",
    "waveform = np.cos(carrier + modulator)\n",
    "waveform2 = np.cos(waveform + modulator2)\n",
    "waveform3 = np.cos(waveform2 + modulator3)\n",
    "waveform4 = np.cos(waveform3 + modulator4)"
   ]
  },
  {
   "cell_type": "code",
   "execution_count": 6,
   "id": "metallic-government",
   "metadata": {},
   "outputs": [],
   "source": [
    "w1 = waveform * 0.1\n",
    "w2 = waveform2 * 0.1\n",
    "w3 = waveform3 * 0.1\n",
    "w4 = waveform4 * 0.1\n",
    "waveform_integers = np.int16(waveform_quiet * 32767)\n",
    "for w in [w1, w2, w3, w4]:\n",
    "    sd.play(w, f_s)\n",
    "    time.sleep(duration_s)\n",
    "    sd.stop()"
   ]
  },
  {
   "cell_type": "code",
   "execution_count": null,
   "id": "chronic-amsterdam",
   "metadata": {},
   "outputs": [],
   "source": []
  }
 ],
 "metadata": {
  "kernelspec": {
   "display_name": "Python 3",
   "language": "python",
   "name": "python3"
  },
  "language_info": {
   "codemirror_mode": {
    "name": "ipython",
    "version": 3
   },
   "file_extension": ".py",
   "mimetype": "text/x-python",
   "name": "python",
   "nbconvert_exporter": "python",
   "pygments_lexer": "ipython3",
   "version": "3.8.5"
  }
 },
 "nbformat": 4,
 "nbformat_minor": 5
}
